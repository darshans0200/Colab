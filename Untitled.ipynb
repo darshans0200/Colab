{
 "cells": [
  {
   "cell_type": "code",
   "execution_count": null,
   "id": "9f143431",
   "metadata": {},
   "outputs": [],
   "source": [
    "import pandas as pd\n",
    "import numpy as np "
   ]
  },
  {
   "cell_type": "code",
   "execution_count": null,
   "id": "aa060ceb",
   "metadata": {},
   "outputs": [],
   "source": [
    "df=pd.read_excel(\"test.xlsx\")"
   ]
  },
  {
   "cell_type": "code",
   "execution_count": null,
   "id": "2c1e1dd9",
   "metadata": {},
   "outputs": [],
   "source": [
    "df.head()"
   ]
  },
  {
   "cell_type": "code",
   "execution_count": null,
   "id": "6dc536e0",
   "metadata": {},
   "outputs": [],
   "source": [
    "df=df.to_csv(\"test.csv\")"
   ]
  },
  {
   "cell_type": "code",
   "execution_count": null,
   "id": "5bd087e1",
   "metadata": {},
   "outputs": [],
   "source": [
    "df=pd.read_csv(\"test.csv\")"
   ]
  },
  {
   "cell_type": "code",
   "execution_count": null,
   "id": "8968143e",
   "metadata": {},
   "outputs": [],
   "source": [
    "df.head()"
   ]
  },
  {
   "cell_type": "code",
   "execution_count": null,
   "id": "d53c79ed",
   "metadata": {},
   "outputs": [],
   "source": [
    "df.columns"
   ]
  },
  {
   "cell_type": "code",
   "execution_count": null,
   "id": "aeb01404",
   "metadata": {},
   "outputs": [],
   "source": [
    "df=df.drop(['Unnamed: 0','Internal division','Disclosing organisation country','% of renewable','Unnamed: 27', 'Unnamed: 28',\n",
    "           'Accounting Year Start','Accounting Year End','Suggested S1&2 (location-based) intensity source',\n",
    "            'Suggested S3 (upstream only) intensity source','Difference ratio of self-reported intensity and manual intensity for S1&2 (location-based)',\n",
    "           'Difference ratio of self-reported intensity and manual intensity for S1&2 (market-based)',\n",
    "           'Self-reported S1&2 (location-based) intensity mGBP','Self-reported S1&2 (market-based) intensity mGBP',\n",
    "           'Manual S1&2 (location-based) Intensity mGBP','Manual S1&2 (market-based) Intensity mGBP','Manual S3 (upstream only) intensity mGBP',\n",
    "           'Sector Average S1&2 (location-based) mGBP','% emissions reduced due to activities'],axis=1)"
   ]
  },
  {
   "cell_type": "code",
   "execution_count": null,
   "id": "364b3b00",
   "metadata": {},
   "outputs": [],
   "source": [
    "df.head()"
   ]
  },
  {
   "cell_type": "code",
   "execution_count": null,
   "id": "81a88e0c",
   "metadata": {},
   "outputs": [],
   "source": [
    "df.shape"
   ]
  },
  {
   "cell_type": "code",
   "execution_count": null,
   "id": "ec91ee96",
   "metadata": {},
   "outputs": [],
   "source": [
    "df=df.dropna(subset=['CDP Activity Group', 'Emissions reduction initiatives','Any climate targets','Reported Revenue mGBP'], how=\"any\")"
   ]
  },
  {
   "cell_type": "code",
   "execution_count": null,
   "id": "8bcacac3",
   "metadata": {},
   "outputs": [],
   "source": [
    "df.shape"
   ]
  },
  {
   "cell_type": "code",
   "execution_count": null,
   "id": "bfbf1982",
   "metadata": {},
   "outputs": [],
   "source": [
    "pf=df.to_csv(\"test.csv\")"
   ]
  },
  {
   "cell_type": "code",
   "execution_count": null,
   "id": "e3479e8a",
   "metadata": {},
   "outputs": [],
   "source": [
    "df.columns"
   ]
  },
  {
   "cell_type": "code",
   "execution_count": null,
   "id": "6abc15fa",
   "metadata": {},
   "outputs": [],
   "source": [
    "print(pd.isnull(df).sum())"
   ]
  },
  {
   "cell_type": "code",
   "execution_count": null,
   "id": "61a7f722",
   "metadata": {},
   "outputs": [],
   "source": [
    "df.fillna(value=0, inplace=True)"
   ]
  },
  {
   "cell_type": "code",
   "execution_count": null,
   "id": "883a2f99",
   "metadata": {},
   "outputs": [],
   "source": [
    "df.shape"
   ]
  },
  {
   "cell_type": "code",
   "execution_count": null,
   "id": "79d16046",
   "metadata": {},
   "outputs": [],
   "source": []
  },
  {
   "cell_type": "code",
   "execution_count": null,
   "id": "ffc73e9e",
   "metadata": {},
   "outputs": [],
   "source": []
  }
 ],
 "metadata": {
  "kernelspec": {
   "display_name": "Python 3 (ipykernel)",
   "language": "python",
   "name": "python3"
  },
  "language_info": {
   "codemirror_mode": {
    "name": "ipython",
    "version": 3
   },
   "file_extension": ".py",
   "mimetype": "text/x-python",
   "name": "python",
   "nbconvert_exporter": "python",
   "pygments_lexer": "ipython3",
   "version": "3.9.7"
  }
 },
 "nbformat": 4,
 "nbformat_minor": 5
}
